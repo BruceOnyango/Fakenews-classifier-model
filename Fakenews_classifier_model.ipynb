{
  "cells": [
    {
      "cell_type": "markdown",
      "metadata": {
        "id": "view-in-github",
        "colab_type": "text"
      },
      "source": [
        "<a href=\"https://colab.research.google.com/github/BruceOnyango/Fakenews-classifier-model/blob/main/Fakenews_classifier_model.ipynb\" target=\"_parent\"><img src=\"https://colab.research.google.com/assets/colab-badge.svg\" alt=\"Open In Colab\"/></a>"
      ]
    },
    {
      "cell_type": "code",
      "execution_count": null,
      "metadata": {
        "collapsed": true,
        "id": "u5MYvbocUvv0"
      },
      "outputs": [],
      "source": [
        ""
      ]
    },
    {
      "cell_type": "markdown",
      "source": [
        ""
      ],
      "metadata": {
        "id": "z4ZsyyGuZc1Y"
      }
    },
    {
      "cell_type": "code",
      "source": [
        "import warnings\n",
        "warnings.filterwarnings('ignore')"
      ],
      "metadata": {
        "id": "c9A0IQWkdxQq"
      },
      "execution_count": null,
      "outputs": []
    },
    {
      "cell_type": "code",
      "source": [
        "%ls"
      ],
      "metadata": {
        "colab": {
          "base_uri": "https://localhost:8080/"
        },
        "id": "KlpK6ybGd3y9",
        "outputId": "49770aa3-422e-4212-82dd-a268c1d05245"
      },
      "execution_count": null,
      "outputs": [
        {
          "output_type": "stream",
          "name": "stdout",
          "text": [
            "\u001b[0m\u001b[01;34msample_data\u001b[0m/\n"
          ]
        }
      ]
    },
    {
      "cell_type": "code",
      "source": [
        "import pandas as pd"
      ],
      "metadata": {
        "id": "_jTT1HR5exVb"
      },
      "execution_count": null,
      "outputs": []
    },
    {
      "cell_type": "code",
      "source": [
        "from google.colab import drive\n",
        "drive.mount('/content/drive')"
      ],
      "metadata": {
        "colab": {
          "base_uri": "https://localhost:8080/"
        },
        "id": "ks2QC79rbJRv",
        "outputId": "548dbe1d-7157-49c1-c990-5c7f7a224fa0"
      },
      "execution_count": null,
      "outputs": [
        {
          "output_type": "stream",
          "name": "stdout",
          "text": [
            "Mounted at /content/drive\n"
          ]
        }
      ]
    },
    {
      "cell_type": "code",
      "source": [
        "import pandas as pd"
      ],
      "metadata": {
        "id": "4ahJav-wfWfD"
      },
      "execution_count": null,
      "outputs": []
    },
    {
      "cell_type": "code",
      "source": [
        "%cd /content/drive/MyDrive/NLP LAB"
      ],
      "metadata": {
        "colab": {
          "base_uri": "https://localhost:8080/"
        },
        "id": "koHiwptg1eHU",
        "outputId": "32ec24ba-4915-471f-a365-59559b9ad400"
      },
      "execution_count": null,
      "outputs": [
        {
          "output_type": "stream",
          "name": "stdout",
          "text": [
            "/content/drive/MyDrive/NLP LAB\n"
          ]
        }
      ]
    },
    {
      "cell_type": "code",
      "source": [
        "data = pd.read_csv('data.csv')\n",
        "#data.head\n",
        "print(data)"
      ],
      "metadata": {
        "colab": {
          "base_uri": "https://localhost:8080/"
        },
        "id": "rE3GnZEkfydi",
        "outputId": "097662e9-e92d-4c2e-912e-a0aabc2efa2f"
      },
      "execution_count": null,
      "outputs": [
        {
          "output_type": "stream",
          "name": "stdout",
          "text": [
            "                                               Statement  Label\n",
            "0      Says the Annies List political group supports ...  False\n",
            "1      When did the decline of coal start? It started...   True\n",
            "2      Hillary Clinton agrees with John McCain \"by vo...   True\n",
            "3      Health care reform legislation is likely to ma...  False\n",
            "4      The economic turnaround started at the end of ...   True\n",
            "...                                                  ...    ...\n",
            "10235  There are a larger number of shark attacks in ...   True\n",
            "10236  Democrats have now become the party of the [At...   True\n",
            "10237  Says an alternative to Social Security that op...   True\n",
            "10238  On lifting the U.S. Cuban embargo and allowing...  False\n",
            "10239  The Department of Veterans Affairs has a manua...  False\n",
            "\n",
            "[10240 rows x 2 columns]\n"
          ]
        }
      ]
    },
    {
      "cell_type": "code",
      "execution_count": null,
      "outputs": [],
      "source": [
        "\"\"\"\n",
        "Since the labels are not in numeric formatt, we'll have to encode them.\n",
        "Encode the labels as follows: 1 for True and 0 for False\n",
        "\n",
        "\"\"\"\n",
        "from sklearn.preprocessing import LabelEncoder\n",
        "encoder = LabelEncoder()\n",
        "data['encoded_labels'] = encoder.fit_transform(data.Label)"
      ],
      "metadata": {
        "pycharm": {
          "name": "#%%\n"
        },
        "id": "tFaengJpUvv_"
      }
    },
    {
      "cell_type": "code",
      "execution_count": null,
      "outputs": [],
      "source": [
        "# state your input and target features\n",
        "X = data.Statement\n",
        "y = data.Label"
      ],
      "metadata": {
        "pycharm": {
          "name": "#%%\n"
        },
        "id": "mdva6f0fUvwC"
      }
    },
    {
      "cell_type": "code",
      "execution_count": null,
      "outputs": [
        {
          "output_type": "stream",
          "name": "stdout",
          "text": [
            "  (0, 3278)\t0.3399228124530313\n",
            "  (0, 7728)\t0.13423338099593773\n",
            "  (0, 615)\t0.2886717774483849\n",
            "  (0, 11296)\t0.40886628948153914\n",
            "  (0, 11036)\t0.2747906206356454\n",
            "  (0, 10709)\t0.2672566797277703\n",
            "  (0, 5115)\t0.2918323060577216\n",
            "  (0, 8376)\t0.2847775347384892\n",
            "  (0, 6639)\t0.3217759953815641\n",
            "  (0, 1044)\t0.4270131065530063\n",
            "  (0, 10988)\t0.06789988196273675\n",
            "  (0, 9676)\t0.11063502017569249\n",
            "  (1, 751)\t0.18344925558463465\n",
            "  (1, 1964)\t0.2637044974582498\n",
            "  (1, 4910)\t0.20345578434235373\n",
            "  (1, 8554)\t0.13824225599506434\n",
            "  (1, 5687)\t0.06817998938144511\n",
            "  (1, 1532)\t0.2738716739054018\n",
            "  (1, 11110)\t0.07294419071852533\n",
            "  (1, 10980)\t0.10044548692913545\n",
            "  (1, 7674)\t0.19430717148304494\n",
            "  (1, 11138)\t0.184608104001816\n",
            "  (1, 4860)\t0.20468163128243344\n",
            "  (1, 7418)\t0.2540938948798941\n",
            "  (1, 10426)\t0.45919377613538964\n",
            "  :\t:\n",
            "  (10239, 6853)\t0.2728576807709281\n",
            "  (10239, 10594)\t0.2642652775131411\n",
            "  (10239, 3989)\t0.2642652775131411\n",
            "  (10239, 10918)\t0.24004465308468284\n",
            "  (10239, 8996)\t0.20614540733281858\n",
            "  (10239, 10660)\t0.2290615578511508\n",
            "  (10239, 2549)\t0.23145224982689586\n",
            "  (10239, 11622)\t0.23405107996162922\n",
            "  (10239, 2568)\t0.19624853016490562\n",
            "  (10239, 799)\t0.23405107996162922\n",
            "  (10239, 11660)\t0.36878918934913885\n",
            "  (10239, 12158)\t0.16005975326201\n",
            "  (10239, 3309)\t0.16812484412327416\n",
            "  (10239, 11004)\t0.15581607466763334\n",
            "  (10239, 11013)\t0.13210526388856295\n",
            "  (10239, 6603)\t0.1580751906378851\n",
            "  (10239, 6327)\t0.16997292042484244\n",
            "  (10239, 12151)\t0.2571349789616205\n",
            "  (10239, 1159)\t0.09896613395106785\n",
            "  (10239, 7824)\t0.11526334812523908\n",
            "  (10239, 7828)\t0.1295362567267961\n",
            "  (10239, 5267)\t0.09307190067265335\n",
            "  (10239, 11110)\t0.12329202807177836\n",
            "  (10239, 7672)\t0.11938293884132344\n",
            "  (10239, 10988)\t0.04531311285277443\n"
          ]
        }
      ],
      "source": [
        "# Building a TF IDF matrix out of the corpus of reviews\n",
        "from sklearn.feature_extraction.text import TfidfVectorizer\n",
        "vectorizer_object = TfidfVectorizer()\n",
        "X = vectorizer_object.fit_transform(X)#data.Statement\n",
        "print(X)\n"
      ],
      "metadata": {
        "pycharm": {
          "name": "#%%\n"
        },
        "colab": {
          "base_uri": "https://localhost:8080/"
        },
        "id": "BaOPhHagUvwE",
        "outputId": "7f2b6711-1e14-49ba-d4b1-b17e5e632a59"
      }
    },
    {
      "cell_type": "code",
      "execution_count": null,
      "outputs": [],
      "source": [
        "# Split the data into training & test subsets, you'll use the train set to compare results and see how ell your model is performing\n",
        "# Split ratio is: 70% for training and 30% for testing\n",
        "from sklearn.model_selection import train_test_split\n",
        "X_train, X_test, y_train, y_test = train_test_split(X, y, test_size = 0.3, random_state = 0)"
      ],
      "metadata": {
        "pycharm": {
          "name": "#%%\n"
        },
        "id": "QudT_7qyUvwF"
      }
    },
    {
      "cell_type": "code",
      "execution_count": null,
      "outputs": [],
      "source": [
        "# Training the classifier & predicting on test data\n",
        "from sklearn.ensemble import RandomForestClassifier"
      ],
      "metadata": {
        "pycharm": {
          "name": "#%%\n"
        },
        "id": "WyYBbWKfUvwH"
      }
    },
    {
      "cell_type": "code",
      "execution_count": null,
      "outputs": [],
      "source": [
        "# use the model to make predictions for the 'X_test' features. Call these predictions 'y_pred'\n",
        "clf=RandomForestClassifier(n_estimators=100)\n",
        "\n",
        "clf.fit(X_train,y_train)\n",
        "y_pred = clf.predict(X_test)\n"
      ],
      "metadata": {
        "pycharm": {
          "name": "#%%\n"
        },
        "id": "mvXwYIFDUvwJ"
      }
    },
    {
      "cell_type": "code",
      "execution_count": null,
      "outputs": [
        {
          "output_type": "stream",
          "name": "stdout",
          "text": [
            "              precision    recall  f1-score   support\n",
            "\n",
            "       False       0.57      0.39      0.46      1358\n",
            "        True       0.61      0.77      0.68      1714\n",
            "\n",
            "    accuracy                           0.60      3072\n",
            "   macro avg       0.59      0.58      0.57      3072\n",
            "weighted avg       0.59      0.60      0.58      3072\n",
            "\n",
            "#########################################################################\n",
            "0.5979817708333334\n"
          ]
        }
      ],
      "source": [
        "# Generate a classification report\n",
        "from sklearn.metrics import accuracy_score, classification_report\n",
        "print(classification_report(y_test, y_pred))\n",
        "print(\"#########################################################################\")\n",
        "print(accuracy_score(y_test, y_pred))\n",
        "\n"
      ],
      "metadata": {
        "pycharm": {
          "name": "#%%\n"
        },
        "colab": {
          "base_uri": "https://localhost:8080/"
        },
        "id": "u6U8EpROUvwL",
        "outputId": "55a1584e-d6bf-4c86-d1b1-f7c6a18113cb"
      }
    },
    {
      "cell_type": "code",
      "execution_count": null,
      "outputs": [
        {
          "output_type": "stream",
          "name": "stdout",
          "text": [
            "[[ 524  834]\n",
            " [ 401 1313]]\n"
          ]
        }
      ],
      "source": [
        "# generate a confusion matrx by comparing your predictions (y_pred) and actual values (y_test)\n",
        "from sklearn.metrics import confusion_matrix\n",
        "print(confusion_matrix(y_test,y_pred))\n",
        "\n",
        "\n"
      ],
      "metadata": {
        "pycharm": {
          "name": "#%%\n"
        },
        "colab": {
          "base_uri": "https://localhost:8080/"
        },
        "id": "bIRGhh-rUvwN",
        "outputId": "a7d3de12-4037-4fc5-985e-b5bc79ff5875"
      }
    },
    {
      "cell_type": "code",
      "execution_count": null,
      "outputs": [],
      "source": [
        "\n",
        "accuracy = 0.5979\n",
        "precision =[ 0.57, 0.61] #true and false respectively\n",
        "f_score = [0.46, 0.68]   #true and false respectively"
      ],
      "metadata": {
        "pycharm": {
          "name": "#%%\n"
        },
        "id": "xRo9wfP1UvwO"
      }
    }
  ],
  "metadata": {
    "kernelspec": {
      "display_name": "Python 3",
      "language": "python",
      "name": "python3"
    },
    "language_info": {
      "codemirror_mode": {
        "name": "ipython",
        "version": 2
      },
      "file_extension": ".py",
      "mimetype": "text/x-python",
      "name": "python",
      "nbconvert_exporter": "python",
      "pygments_lexer": "ipython2",
      "version": "2.7.6"
    },
    "colab": {
      "name": "Fakenews-classifier-model.ipynb",
      "provenance": [],
      "collapsed_sections": [],
      "include_colab_link": true
    }
  },
  "nbformat": 4,
  "nbformat_minor": 0
}